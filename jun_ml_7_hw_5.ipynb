{
  "nbformat": 4,
  "nbformat_minor": 0,
  "metadata": {
    "colab": {
      "provenance": []
    },
    "kernelspec": {
      "display_name": "Python 3",
      "language": "python",
      "name": "python3"
    },
    "language_info": {
      "codemirror_mode": {
        "name": "ipython",
        "version": 3
      },
      "file_extension": ".py",
      "mimetype": "text/x-python",
      "name": "python",
      "nbconvert_exporter": "python",
      "pygments_lexer": "ipython3",
      "version": "3.6.3"
    }
  },
  "cells": [
    {
      "cell_type": "markdown",
      "metadata": {
        "id": "oNXBetI-PL1C"
      },
      "source": [
        "## Урок 8. Домашнее задание начального уровня\n",
        "\n",
        "\n",
        "Обучите модель DBSCAN с параметром *min_samples=8*. Визуализируйте результат."
      ]
    },
    {
      "cell_type": "code",
      "metadata": {
        "id": "le8z-ilDPL1F"
      },
      "source": [
        "# -- ВАШ КОД ТУТ --\n",
        "\n"
      ],
      "execution_count": null,
      "outputs": []
    },
    {
      "cell_type": "markdown",
      "metadata": {
        "id": "QhcrhBvMPL1K"
      },
      "source": [
        "-------------------------------------------------------------------------------------------------"
      ]
    },
    {
      "cell_type": "markdown",
      "metadata": {
        "id": "SdPgW6UDPL2M"
      },
      "source": [
        "Мы теперь мы знаем уже два алгоритма кластеризации -  *k-means* и *DBSCAN*. Как же выяснить, какой алгоритм построил лучшую модель? Для этого надо бы придумать какие-то метрики для кластеризации. О том, как померять качество кластеризации, мы узнаем в следующем уроке"
      ]
    }
  ]
}